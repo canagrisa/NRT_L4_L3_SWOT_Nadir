{
 "cells": [
  {
   "attachments": {},
   "cell_type": "markdown",
   "metadata": {},
   "source": [
    "### Satellite data representation of NRT L4, altimetric along-Track L3, and SWOT-Nadir data \n",
    "\n",
    "Choose an L4 :product: to download:\n",
    "\n",
    "    - 'altimetry': Altimetric L4-NRT data\n",
    "    - 'sst': SST L4-NRT data\n",
    "    - 'chlorophyll': chlorophyll L4-NRT data"
   ]
  },
  {
   "cell_type": "code",
   "execution_count": null,
   "metadata": {},
   "outputs": [],
   "source": [
    "# import modules\n",
    "\n",
    "import data_retrieve  # Downloads the necessary data into a temporary file '/temp'\n",
    "import utils  # Miscellaneous functions used along the code\n",
    "import plot_utils  # Functions to plot the data"
   ]
  },
  {
   "cell_type": "code",
   "execution_count": null,
   "metadata": {},
   "outputs": [],
   "source": [
    "# Set your CMEMS credentials\n",
    "username = 'your_username'\n",
    "password = 'your_password'\n",
    "\n",
    "# Choose the L4 product to download and plot ('altimetry', 'sst' or 'chlorophyll')\n",
    "product = 'sst'\n",
    "\n",
    "year = '2023'\n",
    "month = '03'\n",
    "day = '24'\n",
    "\n",
    "# Choose the coordinates of the bounding box \n",
    "coords = utils.bal_coords\n"
   ]
  },
  {
   "cell_type": "code",
   "execution_count": null,
   "metadata": {},
   "outputs": [],
   "source": [
    "# Downloas and load the data as xarray datasets\n",
    "\n",
    "ds_nrt, swot, sat_dic = data_retrieve.get_data(username, password, year, month, day, coords, product)\n"
   ]
  },
  {
   "cell_type": "code",
   "execution_count": null,
   "metadata": {},
   "outputs": [],
   "source": [
    "# Plot and save the data\n",
    "\n",
    "plot_utils.get_map(ds_nrt, swot, sat_dic, product, year, month, day, coords)"
   ]
  },
  {
   "cell_type": "code",
   "execution_count": null,
   "metadata": {},
   "outputs": [],
   "source": []
  }
 ],
 "metadata": {
  "kernelspec": {
   "display_name": "Python 3",
   "language": "python",
   "name": "python3"
  },
  "language_info": {
   "codemirror_mode": {
    "name": "ipython",
    "version": 3
   },
   "file_extension": ".py",
   "mimetype": "text/x-python",
   "name": "python",
   "nbconvert_exporter": "python",
   "pygments_lexer": "ipython3",
   "version": "3.10.9"
  },
  "orig_nbformat": 4
 },
 "nbformat": 4,
 "nbformat_minor": 2
}
